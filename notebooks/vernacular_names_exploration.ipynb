{
 "cells": [
  {
   "cell_type": "markdown",
   "metadata": {},
   "source": [
    "### data vernacular names, exploration\n",
    "by Christian,\n",
    "\n",
    "- those data './vernacular_name.csv' were genererated by notebook vernacular_name_spark.ipyn, thank's to Tim\n"
   ]
  },
  {
   "cell_type": "code",
   "execution_count": 11,
   "metadata": {},
   "outputs": [],
   "source": [
    "import pandas as pd\n",
    "import matplotlib.pyplot as plt "
   ]
  },
  {
   "cell_type": "code",
   "execution_count": 50,
   "metadata": {},
   "outputs": [
    {
     "name": "stdout",
     "output_type": "stream",
     "text": [
      "<class 'pandas.core.frame.DataFrame'>\n",
      "RangeIndex: 123847 entries, 0 to 123846\n",
      "Data columns (total 4 columns):\n",
      " #   Column           Non-Null Count   Dtype \n",
      "---  ------           --------------   ----- \n",
      " 0   _c0              123845 non-null  object\n",
      " 1   name             120247 non-null  object\n",
      " 2   summary          26905 non-null   object\n",
      " 3   vernacular_name  26905 non-null   object\n",
      "dtypes: object(4)\n",
      "memory usage: 3.8+ MB\n",
      "None\n"
     ]
    },
    {
     "data": {
      "text/html": [
       "<div>\n",
       "<style scoped>\n",
       "    .dataframe tbody tr th:only-of-type {\n",
       "        vertical-align: middle;\n",
       "    }\n",
       "\n",
       "    .dataframe tbody tr th {\n",
       "        vertical-align: top;\n",
       "    }\n",
       "\n",
       "    .dataframe thead th {\n",
       "        text-align: right;\n",
       "    }\n",
       "</style>\n",
       "<table border=\"1\" class=\"dataframe\">\n",
       "  <thead>\n",
       "    <tr style=\"text-align: right;\">\n",
       "      <th></th>\n",
       "      <th>_c0</th>\n",
       "      <th>name</th>\n",
       "      <th>summary</th>\n",
       "      <th>vernacular_name</th>\n",
       "    </tr>\n",
       "  </thead>\n",
       "  <tbody>\n",
       "    <tr>\n",
       "      <th>0</th>\n",
       "      <td>0</td>\n",
       "      <td>Cintractiellaceae</td>\n",
       "      <td>The Cintractiellaceae are a family of smut fun...</td>\n",
       "      <td>fungus</td>\n",
       "    </tr>\n",
       "    <tr>\n",
       "      <th>1</th>\n",
       "      <td>1</td>\n",
       "      <td>Wallemiaceae</td>\n",
       "      <td>The Wallemiomycetes are a class of fungi in th...</td>\n",
       "      <td>fungi</td>\n",
       "    </tr>\n",
       "    <tr>\n",
       "      <th>2</th>\n",
       "      <td>2</td>\n",
       "      <td>Kineosporiaceae</td>\n",
       "      <td>The Kineosporiaceae comprise a polyphyletic Ac...</td>\n",
       "      <td>order</td>\n",
       "    </tr>\n",
       "    <tr>\n",
       "      <th>6</th>\n",
       "      <td>6</td>\n",
       "      <td>Geodermatophilaceae</td>\n",
       "      <td>The Geodermatophilaceae are an actinomycete fa...</td>\n",
       "      <td>Frankineae</td>\n",
       "    </tr>\n",
       "    <tr>\n",
       "      <th>7</th>\n",
       "      <td>7</td>\n",
       "      <td>Tremellaceae</td>\n",
       "      <td>The Tremellaceae are a family of fungi in the ...</td>\n",
       "      <td>fungi</td>\n",
       "    </tr>\n",
       "  </tbody>\n",
       "</table>\n",
       "</div>"
      ],
      "text/plain": [
       "  _c0                 name                                            summary  \\\n",
       "0   0    Cintractiellaceae  The Cintractiellaceae are a family of smut fun...   \n",
       "1   1         Wallemiaceae  The Wallemiomycetes are a class of fungi in th...   \n",
       "2   2      Kineosporiaceae  The Kineosporiaceae comprise a polyphyletic Ac...   \n",
       "6   6  Geodermatophilaceae  The Geodermatophilaceae are an actinomycete fa...   \n",
       "7   7         Tremellaceae  The Tremellaceae are a family of fungi in the ...   \n",
       "\n",
       "  vernacular_name  \n",
       "0          fungus  \n",
       "1           fungi  \n",
       "2           order  \n",
       "6      Frankineae  \n",
       "7           fungi  "
      ]
     },
     "metadata": {},
     "output_type": "display_data"
    },
    {
     "name": "stdout",
     "output_type": "stream",
     "text": [
      "count    26905.000000\n",
      "mean         6.310946\n",
      "std          1.916471\n",
      "min          1.000000\n",
      "25%          6.000000\n",
      "50%          6.000000\n",
      "75%          6.000000\n",
      "max         21.000000\n",
      "Name: len_vernacular_name, dtype: float64\n"
     ]
    },
    {
     "data": {
      "text/html": [
       "<div>\n",
       "<style scoped>\n",
       "    .dataframe tbody tr th:only-of-type {\n",
       "        vertical-align: middle;\n",
       "    }\n",
       "\n",
       "    .dataframe tbody tr th {\n",
       "        vertical-align: top;\n",
       "    }\n",
       "\n",
       "    .dataframe thead th {\n",
       "        text-align: right;\n",
       "    }\n",
       "</style>\n",
       "<table border=\"1\" class=\"dataframe\">\n",
       "  <thead>\n",
       "    <tr style=\"text-align: right;\">\n",
       "      <th></th>\n",
       "      <th>_c0</th>\n",
       "      <th>name</th>\n",
       "      <th>summary</th>\n",
       "      <th>vernacular_name</th>\n",
       "      <th>len_vernacular_name</th>\n",
       "    </tr>\n",
       "  </thead>\n",
       "  <tbody>\n",
       "    <tr>\n",
       "      <th>275</th>\n",
       "      <td>134</td>\n",
       "      <td>Chunellidae</td>\n",
       "      <td>Chunellidae is a family of sea pens, a member ...</td>\n",
       "      <td>pen</td>\n",
       "      <td>3</td>\n",
       "    </tr>\n",
       "    <tr>\n",
       "      <th>614</th>\n",
       "      <td>395</td>\n",
       "      <td>Parabrotulidae</td>\n",
       "      <td>The Parabrotulidae, the false brotulas, are a ...</td>\n",
       "      <td>eel</td>\n",
       "      <td>3</td>\n",
       "    </tr>\n",
       "    <tr>\n",
       "      <th>692</th>\n",
       "      <td>406</td>\n",
       "      <td>Gymnarchidae</td>\n",
       "      <td>Gymnarchus niloticus – commonly known as the a...</td>\n",
       "      <td>aba</td>\n",
       "      <td>3</td>\n",
       "    </tr>\n",
       "    <tr>\n",
       "      <th>735</th>\n",
       "      <td>Glaresis was originally classified with Trogid...</td>\n",
       "      <td>and has many characteristics of \"\"primitive\"\"...</td>\n",
       "      <td>but no affinities to any of the other primiti...</td>\n",
       "      <td>any</td>\n",
       "      <td>3</td>\n",
       "    </tr>\n",
       "    <tr>\n",
       "      <th>756</th>\n",
       "      <td>Dating from the upper Cretaceous</td>\n",
       "      <td>the centropomids are of typical percoid shape</td>\n",
       "      <td>distinguished by having two-part dorsal fins</td>\n",
       "      <td>fin</td>\n",
       "      <td>3</td>\n",
       "    </tr>\n",
       "  </tbody>\n",
       "</table>\n",
       "</div>"
      ],
      "text/plain": [
       "                                                   _c0  \\\n",
       "275                                                134   \n",
       "614                                                395   \n",
       "692                                                406   \n",
       "735  Glaresis was originally classified with Trogid...   \n",
       "756                   Dating from the upper Cretaceous   \n",
       "\n",
       "                                                  name  \\\n",
       "275                                        Chunellidae   \n",
       "614                                     Parabrotulidae   \n",
       "692                                       Gymnarchidae   \n",
       "735   and has many characteristics of \"\"primitive\"\"...   \n",
       "756      the centropomids are of typical percoid shape   \n",
       "\n",
       "                                               summary vernacular_name  \\\n",
       "275  Chunellidae is a family of sea pens, a member ...             pen   \n",
       "614  The Parabrotulidae, the false brotulas, are a ...             eel   \n",
       "692  Gymnarchus niloticus – commonly known as the a...             aba   \n",
       "735   but no affinities to any of the other primiti...             any   \n",
       "756       distinguished by having two-part dorsal fins             fin   \n",
       "\n",
       "     len_vernacular_name  \n",
       "275                    3  \n",
       "614                    3  \n",
       "692                    3  \n",
       "735                    3  \n",
       "756                    3  "
      ]
     },
     "execution_count": 50,
     "metadata": {},
     "output_type": "execute_result"
    }
   ],
   "source": [
    "# load vernacular names dataset\n",
    "df = pd.read_csv('./vernacular_name.csv', sep=',')\n",
    "print(df.info())\n",
    "df.dropna(subset = [\"vernacular_name\"], inplace=True)\n",
    "display(df.head())\n",
    "df['len_vernacular_name'] = df['vernacular_name'].apply(lambda x: len(str(x)))\n",
    "print(df['len_vernacular_name'].describe())\n",
    "df[df['len_vernacular_name']==3].head()\n"
   ]
  },
  {
   "cell_type": "code",
   "execution_count": 24,
   "metadata": {},
   "outputs": [
    {
     "data": {
      "text/html": [
       "<div>\n",
       "<style scoped>\n",
       "    .dataframe tbody tr th:only-of-type {\n",
       "        vertical-align: middle;\n",
       "    }\n",
       "\n",
       "    .dataframe tbody tr th {\n",
       "        vertical-align: top;\n",
       "    }\n",
       "\n",
       "    .dataframe thead th {\n",
       "        text-align: right;\n",
       "    }\n",
       "</style>\n",
       "<table border=\"1\" class=\"dataframe\">\n",
       "  <thead>\n",
       "    <tr style=\"text-align: right;\">\n",
       "      <th></th>\n",
       "      <th>_c0</th>\n",
       "      <th>name</th>\n",
       "      <th>summary</th>\n",
       "      <th>vernacular_name</th>\n",
       "      <th>len_vernacular_name</th>\n",
       "    </tr>\n",
       "  </thead>\n",
       "  <tbody>\n",
       "    <tr>\n",
       "      <th>595</th>\n",
       "      <td>They are commonly known as the broad-winged da...</td>\n",
       "      <td>demoiselles</td>\n",
       "      <td>or jewelwings. These rather large damselflies...</td>\n",
       "      <td>mm</td>\n",
       "      <td>2</td>\n",
       "    </tr>\n",
       "    <tr>\n",
       "      <th>809</th>\n",
       "      <td>It is a large</td>\n",
       "      <td>ellipsoidal fish</td>\n",
       "      <td>growing to 200 cm (79 in) long</td>\n",
       "      <td>cm</td>\n",
       "      <td>2</td>\n",
       "    </tr>\n",
       "    <tr>\n",
       "      <th>1809</th>\n",
       "      <td>Around two hundred and fifty species of hetero...</td>\n",
       "      <td>87 species are known from the New World</td>\n",
       "      <td>including 34 from the United States.Variegate...</td>\n",
       "      <td>34</td>\n",
       "      <td>2</td>\n",
       "    </tr>\n",
       "    <tr>\n",
       "      <th>2199</th>\n",
       "      <td>1280</td>\n",
       "      <td>Acartophthalmidae</td>\n",
       "      <td>The Acartophthalmidae are a family of very sma...</td>\n",
       "      <td>mm</td>\n",
       "      <td>2</td>\n",
       "    </tr>\n",
       "    <tr>\n",
       "      <th>3215</th>\n",
       "      <td>H. palmyra Polhemus</td>\n",
       "      <td>J. T. &amp; Polhemus</td>\n",
       "      <td>D. A.</td>\n",
       "      <td>A.</td>\n",
       "      <td>2</td>\n",
       "    </tr>\n",
       "  </tbody>\n",
       "</table>\n",
       "</div>"
      ],
      "text/plain": [
       "                                                    _c0  \\\n",
       "595   They are commonly known as the broad-winged da...   \n",
       "809                                       It is a large   \n",
       "1809  Around two hundred and fifty species of hetero...   \n",
       "2199                                               1280   \n",
       "3215                                H. palmyra Polhemus   \n",
       "\n",
       "                                          name  \\\n",
       "595                                demoiselles   \n",
       "809                           ellipsoidal fish   \n",
       "1809   87 species are known from the New World   \n",
       "2199                         Acartophthalmidae   \n",
       "3215                          J. T. & Polhemus   \n",
       "\n",
       "                                                summary vernacular_name  \\\n",
       "595    or jewelwings. These rather large damselflies...              mm   \n",
       "809                      growing to 200 cm (79 in) long              cm   \n",
       "1809   including 34 from the United States.Variegate...              34   \n",
       "2199  The Acartophthalmidae are a family of very sma...              mm   \n",
       "3215                                              D. A.              A.   \n",
       "\n",
       "      len_vernacular_name  \n",
       "595                     2  \n",
       "809                     2  \n",
       "1809                    2  \n",
       "2199                    2  \n",
       "3215                    2  "
      ]
     },
     "execution_count": 24,
     "metadata": {},
     "output_type": "execute_result"
    }
   ],
   "source": [
    "df[df['len_vernacular_name']==2].head()"
   ]
  },
  {
   "cell_type": "code",
   "execution_count": 27,
   "metadata": {},
   "outputs": [
    {
     "name": "stdout",
     "output_type": "stream",
     "text": [
      "<class 'pandas.core.frame.DataFrame'>\n",
      "RangeIndex: 26591 entries, 0 to 26590\n",
      "Data columns (total 5 columns):\n",
      " #   Column               Non-Null Count  Dtype \n",
      "---  ------               --------------  ----- \n",
      " 0   _c0                  26590 non-null  object\n",
      " 1   name                 26591 non-null  object\n",
      " 2   summary              26591 non-null  object\n",
      " 3   vernacular_name      26591 non-null  object\n",
      " 4   len_vernacular_name  26591 non-null  int64 \n",
      "dtypes: int64(1), object(4)\n",
      "memory usage: 1.0+ MB\n"
     ]
    }
   ],
   "source": [
    "# we keep name with more than 2 cars\n",
    "df = df[df['len_vernacular_name']>2]\n",
    "df.drop(['len_vernacular_name'], axis=1)\n",
    "df.reset_index(drop=True, inplace=True)\n",
    "df.info()"
   ]
  },
  {
   "cell_type": "code",
   "execution_count": 28,
   "metadata": {},
   "outputs": [
    {
     "data": {
      "text/plain": [
       "vernacular_name\n",
       "beetle        15616\n",
       "fungi           513\n",
       "millipede       341\n",
       "plant           288\n",
       "fish            277\n",
       "              ...  \n",
       "chimaera          1\n",
       "chimney           1\n",
       "chio              1\n",
       "chironomid        1\n",
       "ὕδωρ              1\n",
       "Name: name, Length: 2544, dtype: int64"
      ]
     },
     "metadata": {},
     "output_type": "display_data"
    }
   ],
   "source": [
    "\n",
    "dg = df.groupby('vernacular_name')['name'].count().sort_values(ascending=False)\n",
    "display(dg)"
   ]
  },
  {
   "cell_type": "code",
   "execution_count": 29,
   "metadata": {},
   "outputs": [
    {
     "data": {
      "image/png": "[encoded data removed]",
      "text/plain": [
       "<Figure size 432x288 with 1 Axes>"
      ]
     },
     "metadata": {},
     "output_type": "display_data"
    }
   ],
   "source": [
    "ax = dg.head(20).plot(kind='bar', title='vernacular names distribution')\n",
    "ax.set(xlabel='vernacular name', ylabel='count species')\n",
    "plt.show()"
   ]
  },
  {
   "cell_type": "code",
   "execution_count": 47,
   "metadata": {},
   "outputs": [
    {
     "data": {
      "text/plain": [
       "count     2544.000000\n",
       "mean        10.452437\n",
       "std        310.142915\n",
       "min          1.000000\n",
       "25%          1.000000\n",
       "50%          1.000000\n",
       "75%          2.000000\n",
       "max      15616.000000\n",
       "Name: name, dtype: float64"
      ]
     },
     "execution_count": 47,
     "metadata": {},
     "output_type": "execute_result"
    }
   ],
   "source": [
    "dg.describe()"
   ]
  },
  {
   "cell_type": "markdown",
   "metadata": {},
   "source": [
    "#### - what would it be, on top of this list without the \"15616 species of beetle\"\n"
   ]
  },
  {
   "cell_type": "code",
   "execution_count": 48,
   "metadata": {},
   "outputs": [
    {
     "data": {
      "text/plain": [
       "vernacular_name\n",
       "fungi           513\n",
       "millipede       341\n",
       "plant           288\n",
       "fish            277\n",
       "taxonomy        247\n",
       "family          232\n",
       "order           217\n",
       "algae           182\n",
       "snail           169\n",
       "specie          134\n",
       "scarabaeidae    134\n",
       "insect          132\n",
       "bacteria        131\n",
       "barklouse       113\n",
       "fly             109\n",
       "bird            104\n",
       "moth             99\n",
       "worm             94\n",
       "Name: name, dtype: int64"
      ]
     },
     "metadata": {},
     "output_type": "display_data"
    },
    {
     "data": {
      "image/png": "[encoded data removed]",
      "text/plain": [
       "<Figure size 432x288 with 1 Axes>"
      ]
     },
     "metadata": {},
     "output_type": "display_data"
    }
   ],
   "source": [
    "\n",
    "display(dg[1:19])\n",
    "ax = dg[1:19].plot(kind='bar', title='vernacular names distribution')\n",
    "ax.set(xlabel='vernacular name', ylabel='count species')\n",
    "plt.show()"
   ]
  },
  {
   "cell_type": "markdown",
   "metadata": {},
   "source": [
    "- from this dataset we will have to filter few names as \"family, specie, order\""
   ]
  },
  {
   "cell_type": "code",
   "execution_count": null,
   "metadata": {},
   "outputs": [],
   "source": []
  }
 ],
 "metadata": {
  "kernelspec": {
   "display_name": "Python 3",
   "language": "python",
   "name": "python3"
  },
  "language_info": {
   "codemirror_mode": {
    "name": "ipython",
    "version": 3
   },
   "file_extension": ".py",
   "mimetype": "text/x-python",
   "name": "python",
   "nbconvert_exporter": "python",
   "pygments_lexer": "ipython3",
   "version": "3.6.5"
  }
 },
 "nbformat": 4,
 "nbformat_minor": 2
}
