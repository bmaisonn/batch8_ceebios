{
 "cells": [
  {
   "cell_type": "code",
   "execution_count": 1,
   "metadata": {},
   "outputs": [],
   "source": [
    "import findspark\n",
    "\n",
    "findspark.init()\n",
    " \n",
    "from pyspark import SparkConf, SparkContext \n",
    "from pyspark.sql.types import StringType\n",
    "from pyspark.sql import SQLContext \n",
    "from pyspark.sql.functions import udf"
   ]
  },
  {
   "cell_type": "code",
   "execution_count": 2,
   "metadata": {},
   "outputs": [],
   "source": [
    "config = SparkConf().setMaster('local[8]').setAppName('vernacularName') \n",
    "sc = SparkContext(conf=config) \n",
    "sqlCtx = SQLContext(sc) "
   ]
  },
  {
   "cell_type": "code",
   "execution_count": 9,
   "metadata": {},
   "outputs": [
    {
     "name": "stdout",
     "output_type": "stream",
     "text": [
      "root\n",
      " |-- _c0: string (nullable = true)\n",
      " |-- name: string (nullable = true)\n",
      " |-- summary: string (nullable = true)\n",
      "\n"
     ]
    }
   ],
   "source": [
    "DF = sqlCtx.read.csv(r'../\\extract_wikipedia_summaries/summaries_1.csv', header=True, inferSchema=True, sep=',')\n",
    "DF.registerTempTable(\"wikipedia_summary\")\n",
    "DF.printSchema() "
   ]
  },
  {
   "cell_type": "code",
   "execution_count": 10,
   "metadata": {},
   "outputs": [
    {
     "name": "stdout",
     "output_type": "stream",
     "text": [
      "+---+-------------------+--------------------+\n",
      "|_c0|               name|             summary|\n",
      "+---+-------------------+--------------------+\n",
      "|  0|  Cintractiellaceae|The Cintractiella...|\n",
      "|  1|       Wallemiaceae|The Wallemiomycet...|\n",
      "|  2|    Kineosporiaceae|The Kineosporiace...|\n",
      "|  6|Geodermatophilaceae|The Geodermatophi...|\n",
      "|  7|       Tremellaceae|The Tremellaceae ...|\n",
      "+---+-------------------+--------------------+\n",
      "\n"
     ]
    }
   ],
   "source": [
    "sqlCtx.sql(\"SELECT * FROM wikipedia_summary WHERE summary is not NULL LIMIT 5\").show()"
   ]
  },
  {
   "cell_type": "code",
   "execution_count": 5,
   "metadata": {},
   "outputs": [],
   "source": [
    "# Part-of-speech tagging\n",
    "# Spacy Documentation: https://spacy.io/usage/linguistic-features\n",
    "# Spacy depency labels : https://spacy.io/api/annotation#dependency-parsing\n",
    "import spacy\n",
    "nlp = spacy.load(\"en_core_web_sm\")\n",
    "\n",
    "@udf(returnType=StringType())\n",
    "def find_vernacular_name(summary:str):\n",
    "    '''assumes the first object of preposition in wikipedia summary is the varnacular name'''\n",
    "    try:\n",
    "        doc = nlp(summary)\n",
    "        for token in doc:\n",
    "            if token.dep_ == 'pobj':#pobj : object of preposition\n",
    "                break\n",
    "        return token.lemma_\n",
    "    except TypeError:\n",
    "        pass"
   ]
  },
  {
   "cell_type": "code",
   "execution_count": 6,
   "metadata": {},
   "outputs": [],
   "source": [
    "DF = DF.withColumn('vernacular_name', find_vernacular_name('summary'))"
   ]
  },
  {
   "cell_type": "code",
   "execution_count": 7,
   "metadata": {},
   "outputs": [],
   "source": [
    "df = DF.toPandas()"
   ]
  },
  {
   "cell_type": "code",
   "execution_count": 8,
   "metadata": {},
   "outputs": [
    {
     "data": {
      "text/html": [
       "<div>\n",
       "<style scoped>\n",
       "    .dataframe tbody tr th:only-of-type {\n",
       "        vertical-align: middle;\n",
       "    }\n",
       "\n",
       "    .dataframe tbody tr th {\n",
       "        vertical-align: top;\n",
       "    }\n",
       "\n",
       "    .dataframe thead th {\n",
       "        text-align: right;\n",
       "    }\n",
       "</style>\n",
       "<table border=\"1\" class=\"dataframe\">\n",
       "  <thead>\n",
       "    <tr style=\"text-align: right;\">\n",
       "      <th></th>\n",
       "      <th>_c0</th>\n",
       "      <th>name</th>\n",
       "      <th>summary</th>\n",
       "      <th>vernacular_name</th>\n",
       "    </tr>\n",
       "  </thead>\n",
       "  <tbody>\n",
       "    <tr>\n",
       "      <th>0</th>\n",
       "      <td>0</td>\n",
       "      <td>Cintractiellaceae</td>\n",
       "      <td>The Cintractiellaceae are a family of smut fun...</td>\n",
       "      <td>fungus</td>\n",
       "    </tr>\n",
       "    <tr>\n",
       "      <th>1</th>\n",
       "      <td>1</td>\n",
       "      <td>Wallemiaceae</td>\n",
       "      <td>The Wallemiomycetes are a class of fungi in th...</td>\n",
       "      <td>fungus</td>\n",
       "    </tr>\n",
       "    <tr>\n",
       "      <th>2</th>\n",
       "      <td>2</td>\n",
       "      <td>Kineosporiaceae</td>\n",
       "      <td>The Kineosporiaceae comprise a polyphyletic Ac...</td>\n",
       "      <td>order</td>\n",
       "    </tr>\n",
       "    <tr>\n",
       "      <th>6</th>\n",
       "      <td>6</td>\n",
       "      <td>Geodermatophilaceae</td>\n",
       "      <td>The Geodermatophilaceae are an actinomycete fa...</td>\n",
       "      <td>suborder</td>\n",
       "    </tr>\n",
       "    <tr>\n",
       "      <th>7</th>\n",
       "      <td>7</td>\n",
       "      <td>Tremellaceae</td>\n",
       "      <td>The Tremellaceae are a family of fungi in the ...</td>\n",
       "      <td>fungus</td>\n",
       "    </tr>\n",
       "    <tr>\n",
       "      <th>...</th>\n",
       "      <td>...</td>\n",
       "      <td>...</td>\n",
       "      <td>...</td>\n",
       "      <td>...</td>\n",
       "    </tr>\n",
       "    <tr>\n",
       "      <th>123641</th>\n",
       "      <td>100750</td>\n",
       "      <td>Odontopsammodius</td>\n",
       "      <td>Odontopsammodius is a genus of aphodiine dung ...</td>\n",
       "      <td>beetle</td>\n",
       "    </tr>\n",
       "    <tr>\n",
       "      <th>123642</th>\n",
       "      <td>100751</td>\n",
       "      <td>Aidophus</td>\n",
       "      <td>Aidophus is a genus of aphodiinae dung beetles...</td>\n",
       "      <td>beetle</td>\n",
       "    </tr>\n",
       "    <tr>\n",
       "      <th>123655</th>\n",
       "      <td>100764</td>\n",
       "      <td>Odontopsammodius cruentus</td>\n",
       "      <td>Odontopsammodius cruentus is a species of apho...</td>\n",
       "      <td>beetle</td>\n",
       "    </tr>\n",
       "    <tr>\n",
       "      <th>123845</th>\n",
       "      <td>100954</td>\n",
       "      <td>Dialytes</td>\n",
       "      <td>Dialytes is a genus of aphodiine dung beetles ...</td>\n",
       "      <td>beetle</td>\n",
       "    </tr>\n",
       "    <tr>\n",
       "      <th>123846</th>\n",
       "      <td>100955</td>\n",
       "      <td>Hornietus</td>\n",
       "      <td>Hornietus is a genus of aphodiine dung beetles...</td>\n",
       "      <td>beetle</td>\n",
       "    </tr>\n",
       "  </tbody>\n",
       "</table>\n",
       "<p>26905 rows × 4 columns</p>\n",
       "</div>"
      ],
      "text/plain": [
       "           _c0                       name  \\\n",
       "0            0          Cintractiellaceae   \n",
       "1            1               Wallemiaceae   \n",
       "2            2            Kineosporiaceae   \n",
       "6            6        Geodermatophilaceae   \n",
       "7            7               Tremellaceae   \n",
       "...        ...                        ...   \n",
       "123641  100750           Odontopsammodius   \n",
       "123642  100751                   Aidophus   \n",
       "123655  100764  Odontopsammodius cruentus   \n",
       "123845  100954                   Dialytes   \n",
       "123846  100955                  Hornietus   \n",
       "\n",
       "                                                  summary vernacular_name  \n",
       "0       The Cintractiellaceae are a family of smut fun...          fungus  \n",
       "1       The Wallemiomycetes are a class of fungi in th...          fungus  \n",
       "2       The Kineosporiaceae comprise a polyphyletic Ac...           order  \n",
       "6       The Geodermatophilaceae are an actinomycete fa...        suborder  \n",
       "7       The Tremellaceae are a family of fungi in the ...          fungus  \n",
       "...                                                   ...             ...  \n",
       "123641  Odontopsammodius is a genus of aphodiine dung ...          beetle  \n",
       "123642  Aidophus is a genus of aphodiinae dung beetles...          beetle  \n",
       "123655  Odontopsammodius cruentus is a species of apho...          beetle  \n",
       "123845  Dialytes is a genus of aphodiine dung beetles ...          beetle  \n",
       "123846  Hornietus is a genus of aphodiine dung beetles...          beetle  \n",
       "\n",
       "[26905 rows x 4 columns]"
      ]
     },
     "execution_count": 8,
     "metadata": {},
     "output_type": "execute_result"
    }
   ],
   "source": [
    "df[~df.vernacular_name.isnull()]"
   ]
  },
  {
   "cell_type": "code",
   "execution_count": 9,
   "metadata": {},
   "outputs": [],
   "source": [
    "# df.to_csv('vernacular_name.csv',index=False)"
   ]
  },
  {
   "cell_type": "code",
   "execution_count": null,
   "metadata": {},
   "outputs": [],
   "source": []
  }
 ],
 "metadata": {
  "kernelspec": {
   "display_name": "Python 3",
   "language": "python",
   "name": "python3"
  },
  "language_info": {
   "codemirror_mode": {
    "name": "ipython",
    "version": 3
   },
   "file_extension": ".py",
   "mimetype": "text/x-python",
   "name": "python",
   "nbconvert_exporter": "python",
   "pygments_lexer": "ipython3",
   "version": "3.6.5"
  }
 },
 "nbformat": 4,
 "nbformat_minor": 4
}
