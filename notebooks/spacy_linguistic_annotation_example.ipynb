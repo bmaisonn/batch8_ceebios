{
 "cells": [
  {
   "cell_type": "code",
   "execution_count": 5,
   "metadata": {},
   "outputs": [],
   "source": [
    "import wikipedia\n",
    "import spacy"
   ]
  },
  {
   "cell_type": "code",
   "execution_count": 6,
   "metadata": {},
   "outputs": [],
   "source": [
    "# Spacy documentation : https://spacy.io/usage/spacy-101#annotations"
   ]
  },
  {
   "cell_type": "code",
   "execution_count": 8,
   "metadata": {},
   "outputs": [],
   "source": [
    "import en_core_web_sm\n",
    "nlp = en_core_web_sm.load()"
   ]
  },
  {
   "cell_type": "code",
   "execution_count": 9,
   "metadata": {},
   "outputs": [],
   "source": [
    "# nlp = spacy.load(\"en_core_web_sm\")"
   ]
  },
  {
   "cell_type": "code",
   "execution_count": 10,
   "metadata": {},
   "outputs": [],
   "source": [
    "query = 'vespa vulgaris'"
   ]
  },
  {
   "cell_type": "code",
   "execution_count": 11,
   "metadata": {},
   "outputs": [],
   "source": [
    "summary = wikipedia.summary(query)"
   ]
  },
  {
   "cell_type": "code",
   "execution_count": 12,
   "metadata": {},
   "outputs": [
    {
     "data": {
      "text/plain": [
       "'Vespula vulgaris, known as the common wasp, is found in various regions, including the United Kingdom, Germany, India, China, New Zealand, and Australia. It is sometimes known as the European wasp, but the same name is used for the species Vespula germanica, which is also known as the German wasp. Another name for Vespula vulgaris is the common yellow-jacket. In 2010, wasps in North America thought to be Vespula vulgaris were found to be a different species, Vespula alascensis.'"
      ]
     },
     "execution_count": 12,
     "metadata": {},
     "output_type": "execute_result"
    }
   ],
   "source": [
    "summary"
   ]
  },
  {
   "cell_type": "code",
   "execution_count": 13,
   "metadata": {},
   "outputs": [
    {
     "name": "stdout",
     "output_type": "stream",
     "text": [
      "Wall time: 113 ms\n"
     ]
    }
   ],
   "source": [
    "%%time\n",
    "doc = nlp(summary)"
   ]
  },
  {
   "cell_type": "code",
   "execution_count": 14,
   "metadata": {},
   "outputs": [
    {
     "name": "stdout",
     "output_type": "stream",
     "text": [
      "Vespula Vespula PROPN NNP compound Xxxxx True False\n",
      "vulgaris vulgaris PROPN NNP nsubjpass xxxx True False\n",
      ", , PUNCT , punct , False False\n",
      "known know VERB VBN acl xxxx True False\n",
      "as as ADP IN prep xx True True\n",
      "the the DET DT det xxx True True\n",
      "common common ADJ JJ amod xxxx True False\n",
      "wasp wasp NOUN NN pobj xxxx True False\n",
      ", , PUNCT , punct , False False\n",
      "is be VERB VBZ auxpass xx True True\n",
      "found find VERB VBN ROOT xxxx True False\n",
      "in in ADP IN prep xx True True\n",
      "various various ADJ JJ amod xxxx True True\n",
      "regions region NOUN NNS pobj xxxx True False\n",
      ", , PUNCT , punct , False False\n",
      "including include VERB VBG prep xxxx True False\n",
      "the the DET DT det xxx True True\n",
      "United United PROPN NNP compound Xxxxx True False\n",
      "Kingdom Kingdom PROPN NNP pobj Xxxxx True False\n",
      ", , PUNCT , punct , False False\n",
      "Germany Germany PROPN NNP conj Xxxxx True False\n",
      ", , PUNCT , punct , False False\n",
      "India India PROPN NNP conj Xxxxx True False\n",
      ", , PUNCT , punct , False False\n",
      "China China PROPN NNP conj Xxxxx True False\n",
      ", , PUNCT , punct , False False\n",
      "New New PROPN NNP compound Xxx True False\n",
      "Zealand Zealand PROPN NNP conj Xxxxx True False\n",
      ", , PUNCT , punct , False False\n",
      "and and CCONJ CC cc xxx True True\n",
      "Australia Australia PROPN NNP conj Xxxxx True False\n",
      ". . PUNCT . punct . False False\n",
      "It -PRON- PRON PRP nsubjpass Xx True True\n",
      "is be VERB VBZ auxpass xx True True\n",
      "sometimes sometimes ADV RB advmod xxxx True True\n",
      "known know VERB VBN ROOT xxxx True False\n",
      "as as ADP IN prep xx True True\n",
      "the the DET DT det xxx True True\n",
      "European european ADJ JJ amod Xxxxx True False\n",
      "wasp wasp NOUN NN pobj xxxx True False\n",
      ", , PUNCT , punct , False False\n",
      "but but CCONJ CC cc xxx True True\n",
      "the the DET DT det xxx True True\n",
      "same same ADJ JJ amod xxxx True True\n",
      "name name NOUN NN nsubjpass xxxx True True\n",
      "is be VERB VBZ auxpass xx True True\n",
      "used use VERB VBN conj xxxx True True\n",
      "for for ADP IN prep xxx True True\n",
      "the the DET DT det xxx True True\n",
      "species specie NOUN NNS pobj xxxx True False\n",
      "Vespula Vespula PROPN NNP compound Xxxxx True False\n",
      "germanica germanica NOUN NN appos xxxx True False\n",
      ", , PUNCT , punct , False False\n",
      "which which DET WDT nsubjpass xxxx True True\n",
      "is be VERB VBZ auxpass xx True True\n",
      "also also ADV RB advmod xxxx True True\n",
      "known know VERB VBN relcl xxxx True False\n",
      "as as ADP IN prep xx True True\n",
      "the the DET DT det xxx True True\n",
      "German german ADJ JJ amod Xxxxx True False\n",
      "wasp wasp NOUN NN pobj xxxx True False\n",
      ". . PUNCT . punct . False False\n",
      "Another another DET DT det Xxxxx True True\n",
      "name name NOUN NN nsubj xxxx True True\n",
      "for for ADP IN prep xxx True True\n",
      "Vespula Vespula PROPN NNP compound Xxxxx True False\n",
      "vulgaris vulgaris PROPN NNP pobj xxxx True False\n",
      "is be VERB VBZ ROOT xx True True\n",
      "the the DET DT det xxx True True\n",
      "common common ADJ JJ amod xxxx True False\n",
      "yellow yellow ADJ JJ amod xxxx True False\n",
      "- - PUNCT HYPH punct - False False\n",
      "jacket jacket NOUN NN attr xxxx True False\n",
      ". . PUNCT . punct . False False\n",
      "In in ADP IN prep Xx True True\n",
      "2010 2010 NUM CD pobj dddd False False\n",
      ", , PUNCT , punct , False False\n",
      "wasps wasps NOUN NN nsubj xxxx True False\n",
      "in in ADP IN prep xx True True\n",
      "North North PROPN NNP compound Xxxxx True False\n",
      "America America PROPN NNP pobj Xxxxx True False\n",
      "thought think VERB VBD ROOT xxxx True False\n",
      "to to PART TO aux xx True True\n",
      "be be VERB VB xcomp xx True True\n",
      "Vespula Vespula PROPN NNP compound Xxxxx True False\n",
      "vulgaris vulgaris PROPN NNP attr xxxx True False\n",
      "were be VERB VBD auxpass xxxx True True\n",
      "found find VERB VBN ccomp xxxx True False\n",
      "to to PART TO aux xx True True\n",
      "be be VERB VB xcomp xx True True\n",
      "a a DET DT det x True True\n",
      "different different ADJ JJ amod xxxx True False\n",
      "species specie NOUN NNS attr xxxx True False\n",
      ", , PUNCT , punct , False False\n",
      "Vespula Vespula PROPN NNP compound Xxxxx True False\n",
      "alascensis alascensis NOUN NN appos xxxx True False\n",
      ". . PUNCT . punct . False False\n",
      "Wall time: 2.77 s\n"
     ]
    }
   ],
   "source": [
    "%%time\n",
    "for token in doc:\n",
    "    print(token.text, token.lemma_, token.pos_, token.tag_, token.dep_, token.shape_, token.is_alpha, token.is_stop)"
   ]
  },
  {
   "cell_type": "code",
   "execution_count": null,
   "metadata": {},
   "outputs": [],
   "source": []
  }
 ],
 "metadata": {
  "kernelspec": {
   "display_name": "Python 3",
   "language": "python",
   "name": "python3"
  },
  "language_info": {
   "codemirror_mode": {
    "name": "ipython",
    "version": 3
   },
   "file_extension": ".py",
   "mimetype": "text/x-python",
   "name": "python",
   "nbconvert_exporter": "python",
   "pygments_lexer": "ipython3",
   "version": "3.6.5"
  }
 },
 "nbformat": 4,
 "nbformat_minor": 4
}
